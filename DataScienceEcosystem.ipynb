{
  "metadata": {
    "kernelspec": {
      "name": "python",
      "display_name": "Python (Pyodide)",
      "language": "python"
    },
    "language_info": {
      "codemirror_mode": {
        "name": "python",
        "version": 3
      },
      "file_extension": ".py",
      "mimetype": "text/x-python",
      "name": "python",
      "nbconvert_exporter": "python",
      "pygments_lexer": "ipython3",
      "version": "3.8"
    }
  },
  "nbformat_minor": 5,
  "nbformat": 4,
  "cells": [
    {
      "id": "176a868a-141d-4dbb-bbba-af3a6c10985a",
      "cell_type": "markdown",
      "source": "# Data Science Tools and Ecosystem",
      "metadata": {}
    },
    {
      "id": "c715991b-fdee-4300-8af4-a63b8d8f3099",
      "cell_type": "markdown",
      "source": "## In this notebook, Data Science Tools and Ecosystem are summarized.",
      "metadata": {}
    },
    {
      "id": "8b25b92d-1cee-4119-b4b6-d5c46a5395e7",
      "cell_type": "markdown",
      "source": "**Objectives:**\n- to learn about data science tools\n- to use jupyter notebooks\n- to learn about popular languages in data science\n",
      "metadata": {}
    },
    {
      "id": "b2f720e6-6829-4af3-bba5-0e4a9db862fd",
      "cell_type": "markdown",
      "source": "## Some of the popular languages that Data Scientists use are:\n### 1. Python\n### 2. R\n### 3. SQL\n",
      "metadata": {}
    },
    {
      "id": "5d9659fd-96ab-4619-a8c2-84d8064a161e",
      "cell_type": "markdown",
      "source": "## Some of the commonly used libraries used by Data Scientists include:\n### 1. Numpy\n### 2. Pandas\n### 3. Matplotlib",
      "metadata": {}
    },
    {
      "id": "aaca20e6-b28b-4596-9728-6d3d9f089ca0",
      "cell_type": "markdown",
      "source": "| Data Science Tools |\n|--------------------|\n|MongoDB|\n|Hadoop|\n|kuberflow|\n\n",
      "metadata": {}
    },
    {
      "id": "20d918e3-908c-453c-bfa8-c7f5b6f6159b",
      "cell_type": "markdown",
      "source": "### Below are a few examples of evaluating arithmetic expressions in Python",
      "metadata": {}
    },
    {
      "id": "8f66a09a-c673-406a-a9ad-85a6a6f4f544",
      "cell_type": "code",
      "source": "# This a simple arithmetic expression to mutiply then add integers\n(3*4)+5",
      "metadata": {},
      "outputs": [
        {
          "data": {
            "text/plain": [
              "17"
            ]
          },
          "execution_count": 1,
          "metadata": {},
          "output_type": "execute_result"
        }
      ],
      "execution_count": 1
    },
    {
      "id": "eaa94441-9084-4bcd-be67-4fb5195e21c1",
      "cell_type": "code",
      "source": "# This will convert 200 minutes to hours by diving by 60\na=200\nb= 200/60\nprint(\"200 min is in hours is\",b)",
      "metadata": {},
      "outputs": [
        {
          "name": "stdout",
          "output_type": "stream",
          "text": [
            "200 min is in hours is 3.3333333333333335\n"
          ]
        }
      ],
      "execution_count": 3
    },
    {
      "id": "263527fd-df65-47e3-95d8-cd8fbba224c0",
      "cell_type": "markdown",
      "source": "## Author\nAakriti Neupane",
      "metadata": {}
    },
    {
      "id": "ddefdf52-fb51-4e32-a0ef-070b0f900614",
      "cell_type": "code",
      "source": "",
      "metadata": {},
      "outputs": [],
      "execution_count": null
    }
  ]
}